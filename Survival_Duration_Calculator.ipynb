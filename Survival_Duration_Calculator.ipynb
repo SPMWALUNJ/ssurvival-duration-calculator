{
  "cells": [
    {
      "cell_type": "markdown",
      "metadata": {
        "id": "view-in-github",
        "colab_type": "text"
      },
      "source": [
        "<a href=\"https://colab.research.google.com/github/SPMWALUNJ/ssurvival-duration-calculator/blob/main/Survival_Duration_Calculator.ipynb\" target=\"_parent\"><img src=\"https://colab.research.google.com/assets/colab-badge.svg\" alt=\"Open In Colab\"/></a>"
      ]
    },
    {
      "cell_type": "code",
      "execution_count": null,
      "id": "5f37c280",
      "metadata": {
        "id": "5f37c280"
      },
      "outputs": [],
      "source": []
    },
    {
      "cell_type": "code",
      "execution_count": 1,
      "id": "97646b6d",
      "metadata": {
        "id": "97646b6d",
        "outputId": "915ae524-4877-4e17-9624-cbac43b4d534",
        "colab": {
          "base_uri": "https://localhost:8080/"
        }
      },
      "outputs": [
        {
          "output_type": "stream",
          "name": "stdout",
          "text": [
            "What's your age? 28\n",
            "Please choose time unit: Months, Weeks, Days, Hours, Minutes, Seconds. \n",
            "Note: You can write the first letter or the full name of the time unit. s\n",
            "You lived for 883,008,000 Seconds\n"
          ]
        }
      ],
      "source": [
        "\n",
        "def duration_of_survival():\n",
        "\n",
        "    age = int(input(\"What's your age? \"))\n",
        "\n",
        "    unit = input(\"Please choose time unit: Months, Weeks, Days, Hours, Minutes, Seconds. \\nNote: You can write the first letter or the full name of the time unit. \").strip().lower()\n",
        "\n",
        "    months = age * 12\n",
        "    weeks = months * 4\n",
        "    days = age * 365\n",
        "    hours = days * 24\n",
        "    minutes = hours * 60\n",
        "    seconds = minutes * 60\n",
        "\n",
        "\n",
        "    if unit == 'months' or unit == 'm':\n",
        "        print(f'You lived for {months:,} Months')\n",
        "\n",
        "    elif unit == 'weeks' or unit == 'w':\n",
        "        print(f'You lived for {weeks:,} Weeks')\n",
        "\n",
        "    elif unit == 'days' or unit == 'd':\n",
        "        print(f'You lived for {days:,} Days')\n",
        "\n",
        "    elif unit == 'hours' or unit == 'h':\n",
        "        print(f'You lived for {hours:,} Hours')\n",
        "\n",
        "    elif unit == 'minutes' or unit == 'mi':\n",
        "        print(f'You lived for {minutes:,} Minutes')\n",
        "\n",
        "    elif unit == 'seconds' or unit == 's':\n",
        "        print(f'You lived for {seconds:,} Seconds')\n",
        "\n",
        "    else:\n",
        "        print('Your choice is not available')\n",
        "\n",
        "    return\n",
        "\n",
        "\n",
        "\n",
        "if __name__ == \"__main__\":\n",
        "\n",
        "    duration_of_survival()\n"
      ]
    },
    {
      "cell_type": "code",
      "source": [],
      "metadata": {
        "id": "e20C1kmJ7H09"
      },
      "id": "e20C1kmJ7H09",
      "execution_count": null,
      "outputs": []
    }
  ],
  "metadata": {
    "kernelspec": {
      "display_name": "Python 3 (ipykernel)",
      "language": "python",
      "name": "python3"
    },
    "language_info": {
      "codemirror_mode": {
        "name": "ipython",
        "version": 3
      },
      "file_extension": ".py",
      "mimetype": "text/x-python",
      "name": "python",
      "nbconvert_exporter": "python",
      "pygments_lexer": "ipython3",
      "version": "3.8.8"
    },
    "colab": {
      "provenance": [],
      "include_colab_link": true
    }
  },
  "nbformat": 4,
  "nbformat_minor": 5
}